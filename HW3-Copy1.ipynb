{
 "cells": [
  {
   "cell_type": "code",
   "execution_count": 16,
   "id": "d01156ab",
   "metadata": {},
   "outputs": [],
   "source": [
    "import numpy as np\n",
    "import matplotlib.pyplot as plt"
   ]
  },
  {
   "cell_type": "code",
   "execution_count": 4,
   "id": "77fa9848",
   "metadata": {},
   "outputs": [],
   "source": [
    "def objective(x, d=200):\n",
    "    A = np.zeros((d,d))\n",
    "    for i in range(1, d-1):\n",
    "        A[i, i-1] = 1\n",
    "        A[i, i+1] = 1\n",
    "    A[0,1] = 1\n",
    "    A[d-1, d-2] = 1\n",
    "    \n",
    "    M = 2*np.eye(d) - A\n",
    "    b = np.zeros(d)\n",
    "    b[0] = 1\n",
    "    \n",
    "    \n",
    "    \n",
    "    output = 0.5*(np.matmul(np.matmul(x, M), np.transpose(x))) - np.matmul(np.transpose(b), x)\n",
    "    \n",
    "    return output\n",
    "\n",
    "def grad(x, d=200):\n",
    "    A = np.zeros((d,d))\n",
    "    for i in range(1, d-1):\n",
    "        A[i, i-1] = 1\n",
    "        A[i, i+1] = 1\n",
    "    A[0,1] = 1\n",
    "    A[d-1, d-2] = 1\n",
    "    \n",
    "    M = 2*np.eye(d) - A\n",
    "    b = np.zeros(d)\n",
    "    b[0] = 1\n",
    "    \n",
    "    gradient = np.subtract(np.matmul(x, M), b)\n",
    "    return gradient"
   ]
  },
  {
   "cell_type": "code",
   "execution_count": 5,
   "id": "e6e11d81",
   "metadata": {},
   "outputs": [],
   "source": [
    "def standard(max_iter, x_init = np.zeros(200), L = 4, d=200):\n",
    "    \n",
    "    values = [objective(x_init)]\n",
    "    \n",
    "    x = x_init\n",
    "    \n",
    "    for i in range(1, max_iter):\n",
    "        x = np.subtract(x, grad(x)/L)\n",
    "        values = np.append(values, objective(x))\n",
    "        \n",
    "    return values"
   ]
  },
  {
   "cell_type": "code",
   "execution_count": 6,
   "id": "e94de9bb",
   "metadata": {},
   "outputs": [],
   "source": [
    "def exact(max_iter, x_init = np.zeros(200), L = 4, d=200):\n",
    "    \n",
    "    A = np.zeros((d,d))\n",
    "    for i in range(1, d-1):\n",
    "        A[i, i-1] = 1\n",
    "        A[i, i+1] = 1\n",
    "    A[0,1] = 1\n",
    "    A[d-1, d-2] = 1\n",
    "    \n",
    "    M = 2*np.eye(d) - A\n",
    "    b = np.zeros(d)\n",
    "    b[0] = 1\n",
    "    \n",
    "    ##################################\n",
    "    \n",
    "    values = [objective(x_init)]\n",
    "    \n",
    "    x = x_init\n",
    "    \n",
    "    for i in range(1, max_iter):\n",
    "\n",
    "        alpha = np.matmul(grad(x), np.transpose(grad(x)) ) / np.matmul(np.matmul(grad(x), M), grad(x))\n",
    "        x = np.subtract(x, alpha*grad(x))\n",
    "        \n",
    "        values = np.append(values, objective(x))\n",
    "        \n",
    "    return values"
   ]
  },
  {
   "cell_type": "code",
   "execution_count": 10,
   "id": "776a6d23",
   "metadata": {},
   "outputs": [],
   "source": [
    "def lagged(max_iter, x_init = np.zeros(200), L = 4, d=200):\n",
    "    \n",
    "    A = np.zeros((d,d))\n",
    "    for i in range(1, d-1):\n",
    "        A[i, i-1] = 1\n",
    "        A[i, i+1] = 1\n",
    "    A[0,1] = 1\n",
    "    A[d-1, d-2] = 1\n",
    "    \n",
    "    M = 2*np.eye(d) - A\n",
    "    b = np.zeros(d)\n",
    "    b[0] = 1\n",
    "    \n",
    "    ##################################\n",
    "    \n",
    "    values = [objective(x_init)]\n",
    "    \n",
    "    x = x_init\n",
    "    x_prev = 0\n",
    "    \n",
    "    for i in range(1, max_iter):\n",
    "        \n",
    "        if(i == 1):\n",
    "            alpha = 1/L\n",
    "        else:\n",
    "            alpha = np.matmul(grad(x_prev), np.transpose(grad(x_prev)) ) / np.matmul(np.matmul(grad(x_prev), M), grad(x_prev))\n",
    "        \n",
    "        x_prev = x\n",
    "        x = np.subtract(x, alpha*grad(x))\n",
    "        \n",
    "        values = np.append(values, objective(x))\n",
    "        \n",
    "    return values"
   ]
  },
  {
   "cell_type": "code",
   "execution_count": 25,
   "id": "01d9b248",
   "metadata": {},
   "outputs": [],
   "source": [
    "def nesterov(max_iter, x_init = np.zeros(200), L = 4, d=200):\n",
    "    \n",
    "    a = 1/L\n",
    "    A = 1/L\n",
    "    v = np.subtract(x_init, grad(x_init)*a)\n",
    "    x = x_init\n",
    "    y = np.subtract(x_init, grad(x_init)/L)\n",
    "    \n",
    "    values = [objective(y)]\n",
    "    \n",
    "    for i in range(1, max_iter):\n",
    "        \n",
    "        a_prev = a\n",
    "        a = (i+2)/L\n",
    "        \n",
    "        A_prev = A\n",
    "        A = a + A_prev\n",
    "        \n",
    "        v_prev = v\n",
    "        x = y * (A_prev/A) + v_prev * (a/A)\n",
    "        v = v_prev - grad(x) * a\n",
    "        \n",
    "        y = x - grad(x)/L\n",
    "        values = np.append(values, objective(y))\n",
    "        \n",
    "    return values\n",
    "    "
   ]
  },
  {
   "cell_type": "code",
   "execution_count": 41,
   "id": "563a4103",
   "metadata": {},
   "outputs": [],
   "source": [
    "from numpy.linalg import inv\n",
    "\n",
    "d = 200\n",
    "A = np.zeros((d,d))\n",
    "for i in range(1, d-1):\n",
    "    A[i, i-1] = 1\n",
    "    A[i, i+1] = 1\n",
    "A[0,1] = 1\n",
    "A[d-1, d-2] = 1\n",
    "\n",
    "M = 2*np.eye(d) - A\n",
    "b = np.zeros(d)\n",
    "b[0] = 1\n",
    "\n",
    "M_inverse = inv(M)\n",
    "min_value = objective(np.matmul(M_inverse, b))"
   ]
  },
  {
   "cell_type": "code",
   "execution_count": 64,
   "id": "0118f450",
   "metadata": {},
   "outputs": [],
   "source": [
    "y_standard = standard(300) - min_value\n",
    "y_exact = exact(300) - min_value\n",
    "y_lagged = lagged(300) - min_value\n",
    "y_nesterov = nesterov(300) - min_value"
   ]
  },
  {
   "cell_type": "code",
   "execution_count": 46,
   "id": "b9e66540",
   "metadata": {},
   "outputs": [
    {
     "data": {
      "text/plain": [
       "<matplotlib.legend.Legend at 0x1980f832b00>"
      ]
     },
     "execution_count": 46,
     "metadata": {},
     "output_type": "execute_result"
    },
    {
     "data": {
      "image/png": "[encoded data removed]",
      "text/plain": [
       "<Figure size 432x288 with 1 Axes>"
      ]
     },
     "metadata": {
      "needs_background": "light"
     },
     "output_type": "display_data"
    }
   ],
   "source": [
    "plt.plot(y_standard, label = \"Standard\")\n",
    "plt.plot(y_exact, label = \"Exact Line Search\")\n",
    "plt.plot(y_nesterov, label = \"Nesterov\")\n",
    "\n",
    "plt.yscale(\"log\")\n",
    "plt.legend()"
   ]
  },
  {
   "cell_type": "code",
   "execution_count": 47,
   "id": "173f68bd",
   "metadata": {},
   "outputs": [
    {
     "data": {
      "text/plain": [
       "<matplotlib.legend.Legend at 0x1980f8e3730>"
      ]
     },
     "execution_count": 47,
     "metadata": {},
     "output_type": "execute_result"
    },
    {
     "data": {
      "image/png": "[encoded data removed]",
      "text/plain": [
       "<Figure size 432x288 with 1 Axes>"
      ]
     },
     "metadata": {
      "needs_background": "light"
     },
     "output_type": "display_data"
    }
   ],
   "source": [
    "plt.plot(y_lagged, label = \"Lagged Line Search\")\n",
    "plt.plot(y_nesterov, label = \"Nesterov\")\n",
    "\n",
    "plt.yscale(\"log\")\n",
    "plt.legend()"
   ]
  },
  {
   "cell_type": "code",
   "execution_count": 49,
   "id": "00f7cec2",
   "metadata": {},
   "outputs": [],
   "source": [
    "def modified_nesterov(max_iter, x_init = np.zeros(200), L = 4, d=200):\n",
    "    \n",
    "    a = 1/L\n",
    "    A = 1/L\n",
    "    v = np.subtract(x_init, grad(x_init)*a)\n",
    "    x = x_init\n",
    "    y = np.subtract(x_init, grad(x_init)/L)\n",
    "    \n",
    "    values = [objective(y)]\n",
    "    \n",
    "    for i in range(1, max_iter):\n",
    "        \n",
    "        a_prev = a\n",
    "        a = (i+2)/L\n",
    "        \n",
    "        A_prev = A\n",
    "        A = a + A_prev\n",
    "        \n",
    "        v_prev = v\n",
    "        x = y * (A_prev/A) + v_prev * (a/A)\n",
    "        v = v_prev - grad(x) * a\n",
    "        \n",
    "        y = x - grad(x)/L\n",
    "        values = np.append(values, objective(y))\n",
    "        values[i] = np.amin(values)\n",
    "        \n",
    "    return values\n",
    "  "
   ]
  },
  {
   "cell_type": "code",
   "execution_count": 50,
   "id": "6abf33ca",
   "metadata": {},
   "outputs": [],
   "source": [
    "def modified_lagged(max_iter, x_init = np.zeros(200), L = 4, d=200):\n",
    "    \n",
    "    A = np.zeros((d,d))\n",
    "    for i in range(1, d-1):\n",
    "        A[i, i-1] = 1\n",
    "        A[i, i+1] = 1\n",
    "    A[0,1] = 1\n",
    "    A[d-1, d-2] = 1\n",
    "    \n",
    "    M = 2*np.eye(d) - A\n",
    "    b = np.zeros(d)\n",
    "    b[0] = 1\n",
    "    \n",
    "    ##################################\n",
    "    \n",
    "    values = [objective(x_init)]\n",
    "    \n",
    "    x = x_init\n",
    "    x_prev = 0\n",
    "    \n",
    "    for i in range(1, max_iter):\n",
    "        \n",
    "        if(i == 1):\n",
    "            alpha = 1/L\n",
    "        else:\n",
    "            alpha = np.matmul(grad(x_prev), np.transpose(grad(x_prev)) ) / np.matmul(np.matmul(grad(x_prev), M), grad(x_prev))\n",
    "        \n",
    "        x_prev = x\n",
    "        x = np.subtract(x, alpha*grad(x))\n",
    "        \n",
    "        values = np.append(values, objective(x))\n",
    "        values[i] = np.amin(values)\n",
    "        \n",
    "    return values"
   ]
  },
  {
   "cell_type": "code",
   "execution_count": 62,
   "id": "fe7adc46",
   "metadata": {},
   "outputs": [],
   "source": [
    "mod_nesterov = modified_nesterov(300) - min_value\n",
    "mod_lagged = modified_lagged(300) - min_value"
   ]
  },
  {
   "cell_type": "code",
   "execution_count": 63,
   "id": "9710f0c5",
   "metadata": {},
   "outputs": [
    {
     "data": {
      "text/plain": [
       "<matplotlib.legend.Legend at 0x19810ded2d0>"
      ]
     },
     "execution_count": 63,
     "metadata": {},
     "output_type": "execute_result"
    },
    {
     "data": {
      "image/png": "[encoded data removed]",
      "text/plain": [
       "<Figure size 432x288 with 1 Axes>"
      ]
     },
     "metadata": {
      "needs_background": "light"
     },
     "output_type": "display_data"
    }
   ],
   "source": [
    "plt.plot(mod_lagged, label = \"Lagged Line Search\")\n",
    "plt.plot(mod_nesterov, label = \"Nesterov\")\n",
    "\n",
    "plt.yscale('log')\n",
    "plt.legend()"
   ]
  },
  {
   "cell_type": "code",
   "execution_count": null,
   "id": "9079ab64",
   "metadata": {},
   "outputs": [],
   "source": []
  }
 ],
 "metadata": {
  "kernelspec": {
   "display_name": "Python 3 (ipykernel)",
   "language": "python",
   "name": "python3"
  },
  "language_info": {
   "codemirror_mode": {
    "name": "ipython",
    "version": 3
   },
   "file_extension": ".py",
   "mimetype": "text/x-python",
   "name": "python",
   "nbconvert_exporter": "python",
   "pygments_lexer": "ipython3",
   "version": "3.9.7"
  }
 },
 "nbformat": 4,
 "nbformat_minor": 5
}
